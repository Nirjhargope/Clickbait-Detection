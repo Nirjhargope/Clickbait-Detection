{
  "nbformat": 4,
  "nbformat_minor": 0,
  "metadata": {
    "colab": {
      "provenance": []
    },
    "kernelspec": {
      "name": "python3",
      "display_name": "Python 3"
    },
    "language_info": {
      "name": "python"
    }
  },
  "cells": [
    {
      "cell_type": "code",
      "execution_count": null,
      "metadata": {
        "colab": {
          "base_uri": "https://localhost:8080/"
        },
        "id": "cCEqXfpI9ABI",
        "outputId": "0d8cc7e8-77c7-4804-ab3b-14963c345663"
      },
      "outputs": [
        {
          "output_type": "stream",
          "name": "stdout",
          "text": [
            "Mounted at /content/drive\n"
          ]
        }
      ],
      "source": [
        "from google.colab import drive\n",
        "drive.mount('/content/drive')"
      ]
    },
    {
      "cell_type": "code",
      "source": [
        "import pandas as pd"
      ],
      "metadata": {
        "id": "1ygElvbL_pSh"
      },
      "execution_count": null,
      "outputs": []
    },
    {
      "cell_type": "code",
      "source": [
        "path = \"/content/drive/MyDrive/clickbait/train.csv\" # ariful\n",
        "# path = \"/content/drive/MyDrive/CSE440_Project/train.csv\" # siam\n",
        "df = pd.read_csv(path)\n",
        "\n",
        "df.shape"
      ],
      "metadata": {
        "colab": {
          "base_uri": "https://localhost:8080/"
        },
        "id": "s-kMCxmUmbvC",
        "outputId": "44778141-9d12-4f09-f847-48301edaa1ae"
      },
      "execution_count": null,
      "outputs": [
        {
          "output_type": "execute_result",
          "data": {
            "text/plain": [
              "(3195, 12)"
            ]
          },
          "metadata": {},
          "execution_count": 5
        }
      ]
    },
    {
      "cell_type": "code",
      "source": [
        "df.head()"
      ],
      "metadata": {
        "colab": {
          "base_uri": "https://localhost:8080/",
          "height": 739
        },
        "id": "iPobsEvlpsbN",
        "outputId": "5f456ece-663e-41e0-b3a7-70e787e6df27"
      },
      "execution_count": null,
      "outputs": [
        {
          "output_type": "execute_result",
          "data": {
            "text/plain": [
              "                                   uuid              postId  \\\n",
              "0  0af11f6b-c889-4520-9372-66ba25cb7657              532quh   \n",
              "1  b1a1f63d-8853-4a11-89e8-6b2952a393ec  411701128456593408   \n",
              "2  008b7b19-0445-4e16-8f9e-075b73f80ca4  380537005123190784   \n",
              "3  31ecf93c-3e21-4c80-949b-aa549a046b93  844567852531286016   \n",
              "4  31b108a3-c828-421a-a4b9-cf651e9ac859  814186311573766144   \n",
              "\n",
              "                                            postText postPlatform  \\\n",
              "0  ['Wes Welker Wanted Dinner With Tom Brady, But...       reddit   \n",
              "1  ['NASA sets date for full recovery of ozone ho...      Twitter   \n",
              "2  [\"This is what makes employees happy -- and it...      Twitter   \n",
              "3  ['Passion is overrated —\\xa07 work habits you ...      Twitter   \n",
              "4  [\"The perfect way to cook rice so that it's pe...      Twitter   \n",
              "\n",
              "                                    targetParagraphs  \\\n",
              "0  ['It’ll be just like old times this weekend fo...   \n",
              "1  ['2070 is shaping up to be a great year for Mo...   \n",
              "2  [\"Despite common belief, money isn't the key t...   \n",
              "3  ['It’s common wisdom. Near gospel really, and ...   \n",
              "4  ['Boiling rice may seem simple, but there is a...   \n",
              "\n",
              "                                         targetTitle  \\\n",
              "0  Wes Welker Wanted Dinner With Tom Brady, But P...   \n",
              "1  Hole In Ozone Layer Expected To Make Full Reco...   \n",
              "2  Intellectual Stimulation Trumps Money For Empl...   \n",
              "3  ‘Follow your passion’ is wrong, here are 7 hab...   \n",
              "4  Revealed: The perfect way to cook rice so that...   \n",
              "\n",
              "                                   targetDescription  \\\n",
              "0  It'll be just like old times this weekend for ...   \n",
              "1  2070 is shaping up to be a great year for Moth...   \n",
              "2  By: Chad Brooks \\r\\nPublished: 09/18/2013 06:4...   \n",
              "3    There's a lot more to work that loving your job   \n",
              "4  The question 'How does one cook rice properly?...   \n",
              "\n",
              "                                      targetKeywords  \\\n",
              "0    new england patriots, ricky doyle, top stories,   \n",
              "1  ozone layer,ozone hole determined by weather,M...   \n",
              "2  employee happiness money,employee happiness in...   \n",
              "3                       business, work-life, careers   \n",
              "4            Quora,users,share,perfect,way,cook,rice   \n",
              "\n",
              "                                          provenance  \\\n",
              "0  {'source': 'anonymized', 'humanSpoiler': 'They...   \n",
              "1  {'source': 'anonymized', 'humanSpoiler': '2070...   \n",
              "2  {'source': 'anonymized', 'humanSpoiler': 'Inte...   \n",
              "3  {'source': 'anonymized', 'humanSpoiler': None,...   \n",
              "4  {'source': 'anonymized', 'humanSpoiler': None,...   \n",
              "\n",
              "                                             spoiler  \\\n",
              "0            ['how about that morning we go throw?']   \n",
              "1                                           ['2070']   \n",
              "2                       ['intellectual stimulation']   \n",
              "3  ['Purpose connects us to something bigger and ...   \n",
              "4                               ['in a rice cooker']   \n",
              "\n",
              "                                    spoilerPositions         tags  \n",
              "0                             [[[3, 151], [3, 186]]]  ['passage']  \n",
              "1                                 [[[0, 0], [0, 4]]]   ['phrase']  \n",
              "2                             [[[1, 186], [1, 210]]]   ['phrase']  \n",
              "3  [[[11, 25], [11, 101]], [[17, 56], [17, 85]], ...    ['multi']  \n",
              "4                               [[[5, 60], [5, 76]]]   ['phrase']  "
            ],
            "text/html": [
              "\n",
              "  <div id=\"df-409953b4-dd0e-4ffe-a094-f54cab09e5af\">\n",
              "    <div class=\"colab-df-container\">\n",
              "      <div>\n",
              "<style scoped>\n",
              "    .dataframe tbody tr th:only-of-type {\n",
              "        vertical-align: middle;\n",
              "    }\n",
              "\n",
              "    .dataframe tbody tr th {\n",
              "        vertical-align: top;\n",
              "    }\n",
              "\n",
              "    .dataframe thead th {\n",
              "        text-align: right;\n",
              "    }\n",
              "</style>\n",
              "<table border=\"1\" class=\"dataframe\">\n",
              "  <thead>\n",
              "    <tr style=\"text-align: right;\">\n",
              "      <th></th>\n",
              "      <th>uuid</th>\n",
              "      <th>postId</th>\n",
              "      <th>postText</th>\n",
              "      <th>postPlatform</th>\n",
              "      <th>targetParagraphs</th>\n",
              "      <th>targetTitle</th>\n",
              "      <th>targetDescription</th>\n",
              "      <th>targetKeywords</th>\n",
              "      <th>provenance</th>\n",
              "      <th>spoiler</th>\n",
              "      <th>spoilerPositions</th>\n",
              "      <th>tags</th>\n",
              "    </tr>\n",
              "  </thead>\n",
              "  <tbody>\n",
              "    <tr>\n",
              "      <th>0</th>\n",
              "      <td>0af11f6b-c889-4520-9372-66ba25cb7657</td>\n",
              "      <td>532quh</td>\n",
              "      <td>['Wes Welker Wanted Dinner With Tom Brady, But...</td>\n",
              "      <td>reddit</td>\n",
              "      <td>['It’ll be just like old times this weekend fo...</td>\n",
              "      <td>Wes Welker Wanted Dinner With Tom Brady, But P...</td>\n",
              "      <td>It'll be just like old times this weekend for ...</td>\n",
              "      <td>new england patriots, ricky doyle, top stories,</td>\n",
              "      <td>{'source': 'anonymized', 'humanSpoiler': 'They...</td>\n",
              "      <td>['how about that morning we go throw?']</td>\n",
              "      <td>[[[3, 151], [3, 186]]]</td>\n",
              "      <td>['passage']</td>\n",
              "    </tr>\n",
              "    <tr>\n",
              "      <th>1</th>\n",
              "      <td>b1a1f63d-8853-4a11-89e8-6b2952a393ec</td>\n",
              "      <td>411701128456593408</td>\n",
              "      <td>['NASA sets date for full recovery of ozone ho...</td>\n",
              "      <td>Twitter</td>\n",
              "      <td>['2070 is shaping up to be a great year for Mo...</td>\n",
              "      <td>Hole In Ozone Layer Expected To Make Full Reco...</td>\n",
              "      <td>2070 is shaping up to be a great year for Moth...</td>\n",
              "      <td>ozone layer,ozone hole determined by weather,M...</td>\n",
              "      <td>{'source': 'anonymized', 'humanSpoiler': '2070...</td>\n",
              "      <td>['2070']</td>\n",
              "      <td>[[[0, 0], [0, 4]]]</td>\n",
              "      <td>['phrase']</td>\n",
              "    </tr>\n",
              "    <tr>\n",
              "      <th>2</th>\n",
              "      <td>008b7b19-0445-4e16-8f9e-075b73f80ca4</td>\n",
              "      <td>380537005123190784</td>\n",
              "      <td>[\"This is what makes employees happy -- and it...</td>\n",
              "      <td>Twitter</td>\n",
              "      <td>[\"Despite common belief, money isn't the key t...</td>\n",
              "      <td>Intellectual Stimulation Trumps Money For Empl...</td>\n",
              "      <td>By: Chad Brooks \\r\\nPublished: 09/18/2013 06:4...</td>\n",
              "      <td>employee happiness money,employee happiness in...</td>\n",
              "      <td>{'source': 'anonymized', 'humanSpoiler': 'Inte...</td>\n",
              "      <td>['intellectual stimulation']</td>\n",
              "      <td>[[[1, 186], [1, 210]]]</td>\n",
              "      <td>['phrase']</td>\n",
              "    </tr>\n",
              "    <tr>\n",
              "      <th>3</th>\n",
              "      <td>31ecf93c-3e21-4c80-949b-aa549a046b93</td>\n",
              "      <td>844567852531286016</td>\n",
              "      <td>['Passion is overrated —\\xa07 work habits you ...</td>\n",
              "      <td>Twitter</td>\n",
              "      <td>['It’s common wisdom. Near gospel really, and ...</td>\n",
              "      <td>‘Follow your passion’ is wrong, here are 7 hab...</td>\n",
              "      <td>There's a lot more to work that loving your job</td>\n",
              "      <td>business, work-life, careers</td>\n",
              "      <td>{'source': 'anonymized', 'humanSpoiler': None,...</td>\n",
              "      <td>['Purpose connects us to something bigger and ...</td>\n",
              "      <td>[[[11, 25], [11, 101]], [[17, 56], [17, 85]], ...</td>\n",
              "      <td>['multi']</td>\n",
              "    </tr>\n",
              "    <tr>\n",
              "      <th>4</th>\n",
              "      <td>31b108a3-c828-421a-a4b9-cf651e9ac859</td>\n",
              "      <td>814186311573766144</td>\n",
              "      <td>[\"The perfect way to cook rice so that it's pe...</td>\n",
              "      <td>Twitter</td>\n",
              "      <td>['Boiling rice may seem simple, but there is a...</td>\n",
              "      <td>Revealed: The perfect way to cook rice so that...</td>\n",
              "      <td>The question 'How does one cook rice properly?...</td>\n",
              "      <td>Quora,users,share,perfect,way,cook,rice</td>\n",
              "      <td>{'source': 'anonymized', 'humanSpoiler': None,...</td>\n",
              "      <td>['in a rice cooker']</td>\n",
              "      <td>[[[5, 60], [5, 76]]]</td>\n",
              "      <td>['phrase']</td>\n",
              "    </tr>\n",
              "  </tbody>\n",
              "</table>\n",
              "</div>\n",
              "      <button class=\"colab-df-convert\" onclick=\"convertToInteractive('df-409953b4-dd0e-4ffe-a094-f54cab09e5af')\"\n",
              "              title=\"Convert this dataframe to an interactive table.\"\n",
              "              style=\"display:none;\">\n",
              "        \n",
              "  <svg xmlns=\"http://www.w3.org/2000/svg\" height=\"24px\"viewBox=\"0 0 24 24\"\n",
              "       width=\"24px\">\n",
              "    <path d=\"M0 0h24v24H0V0z\" fill=\"none\"/>\n",
              "    <path d=\"M18.56 5.44l.94 2.06.94-2.06 2.06-.94-2.06-.94-.94-2.06-.94 2.06-2.06.94zm-11 1L8.5 8.5l.94-2.06 2.06-.94-2.06-.94L8.5 2.5l-.94 2.06-2.06.94zm10 10l.94 2.06.94-2.06 2.06-.94-2.06-.94-.94-2.06-.94 2.06-2.06.94z\"/><path d=\"M17.41 7.96l-1.37-1.37c-.4-.4-.92-.59-1.43-.59-.52 0-1.04.2-1.43.59L10.3 9.45l-7.72 7.72c-.78.78-.78 2.05 0 2.83L4 21.41c.39.39.9.59 1.41.59.51 0 1.02-.2 1.41-.59l7.78-7.78 2.81-2.81c.8-.78.8-2.07 0-2.86zM5.41 20L4 18.59l7.72-7.72 1.47 1.35L5.41 20z\"/>\n",
              "  </svg>\n",
              "      </button>\n",
              "      \n",
              "  <style>\n",
              "    .colab-df-container {\n",
              "      display:flex;\n",
              "      flex-wrap:wrap;\n",
              "      gap: 12px;\n",
              "    }\n",
              "\n",
              "    .colab-df-convert {\n",
              "      background-color: #E8F0FE;\n",
              "      border: none;\n",
              "      border-radius: 50%;\n",
              "      cursor: pointer;\n",
              "      display: none;\n",
              "      fill: #1967D2;\n",
              "      height: 32px;\n",
              "      padding: 0 0 0 0;\n",
              "      width: 32px;\n",
              "    }\n",
              "\n",
              "    .colab-df-convert:hover {\n",
              "      background-color: #E2EBFA;\n",
              "      box-shadow: 0px 1px 2px rgba(60, 64, 67, 0.3), 0px 1px 3px 1px rgba(60, 64, 67, 0.15);\n",
              "      fill: #174EA6;\n",
              "    }\n",
              "\n",
              "    [theme=dark] .colab-df-convert {\n",
              "      background-color: #3B4455;\n",
              "      fill: #D2E3FC;\n",
              "    }\n",
              "\n",
              "    [theme=dark] .colab-df-convert:hover {\n",
              "      background-color: #434B5C;\n",
              "      box-shadow: 0px 1px 3px 1px rgba(0, 0, 0, 0.15);\n",
              "      filter: drop-shadow(0px 1px 2px rgba(0, 0, 0, 0.3));\n",
              "      fill: #FFFFFF;\n",
              "    }\n",
              "  </style>\n",
              "\n",
              "      <script>\n",
              "        const buttonEl =\n",
              "          document.querySelector('#df-409953b4-dd0e-4ffe-a094-f54cab09e5af button.colab-df-convert');\n",
              "        buttonEl.style.display =\n",
              "          google.colab.kernel.accessAllowed ? 'block' : 'none';\n",
              "\n",
              "        async function convertToInteractive(key) {\n",
              "          const element = document.querySelector('#df-409953b4-dd0e-4ffe-a094-f54cab09e5af');\n",
              "          const dataTable =\n",
              "            await google.colab.kernel.invokeFunction('convertToInteractive',\n",
              "                                                     [key], {});\n",
              "          if (!dataTable) return;\n",
              "\n",
              "          const docLinkHtml = 'Like what you see? Visit the ' +\n",
              "            '<a target=\"_blank\" href=https://colab.research.google.com/notebooks/data_table.ipynb>data table notebook</a>'\n",
              "            + ' to learn more about interactive tables.';\n",
              "          element.innerHTML = '';\n",
              "          dataTable['output_type'] = 'display_data';\n",
              "          await google.colab.output.renderOutput(dataTable, element);\n",
              "          const docLink = document.createElement('div');\n",
              "          docLink.innerHTML = docLinkHtml;\n",
              "          element.appendChild(docLink);\n",
              "        }\n",
              "      </script>\n",
              "    </div>\n",
              "  </div>\n",
              "  "
            ]
          },
          "metadata": {},
          "execution_count": 6
        }
      ]
    },
    {
      "cell_type": "code",
      "source": [
        "df.tags.value_counts() # check if the classes are balanced or not"
      ],
      "metadata": {
        "colab": {
          "base_uri": "https://localhost:8080/"
        },
        "id": "UGXO9gKtHFGg",
        "outputId": "b1168288-de38-47fb-be23-9661076b9325"
      },
      "execution_count": null,
      "outputs": [
        {
          "output_type": "execute_result",
          "data": {
            "text/plain": [
              "['phrase']     1365\n",
              "['passage']    1272\n",
              "['multi']       558\n",
              "Name: tags, dtype: int64"
            ]
          },
          "metadata": {},
          "execution_count": 7
        }
      ]
    },
    {
      "cell_type": "code",
      "source": [
        "df=df[['postText','targetParagraphs','targetTitle','targetDescription','tags']].dropna()\n",
        "# reset the index\n",
        "df = df.reset_index(drop=True)"
      ],
      "metadata": {
        "id": "8k09Lp--q_4u"
      },
      "execution_count": null,
      "outputs": []
    },
    {
      "cell_type": "code",
      "source": [
        "dfa = df.copy()\n",
        "print(dfa.head(2))"
      ],
      "metadata": {
        "colab": {
          "base_uri": "https://localhost:8080/"
        },
        "id": "DzqICNmkUg2z",
        "outputId": "76edb585-a6c2-47fa-a7cb-7e0463c95189"
      },
      "execution_count": null,
      "outputs": [
        {
          "output_type": "stream",
          "name": "stdout",
          "text": [
            "                                            postText  \\\n",
            "0  ['Wes Welker Wanted Dinner With Tom Brady, But...   \n",
            "1  ['NASA sets date for full recovery of ozone ho...   \n",
            "\n",
            "                                    targetParagraphs  \\\n",
            "0  ['It’ll be just like old times this weekend fo...   \n",
            "1  ['2070 is shaping up to be a great year for Mo...   \n",
            "\n",
            "                                         targetTitle  \\\n",
            "0  Wes Welker Wanted Dinner With Tom Brady, But P...   \n",
            "1  Hole In Ozone Layer Expected To Make Full Reco...   \n",
            "\n",
            "                                   targetDescription         tags  \n",
            "0  It'll be just like old times this weekend for ...  ['passage']  \n",
            "1  2070 is shaping up to be a great year for Moth...   ['phrase']  \n"
          ]
        }
      ]
    },
    {
      "cell_type": "code",
      "source": [
        "# convert the tags column to an integer value.\n",
        "dfa['int_tag'] = dfa.tags.map({\"['phrase']\":0,\"['passage']\":1,\"['multi']\":2})"
      ],
      "metadata": {
        "id": "AK5KYG-ROdyg"
      },
      "execution_count": null,
      "outputs": []
    },
    {
      "cell_type": "code",
      "source": [
        "dfa.head(4)"
      ],
      "metadata": {
        "colab": {
          "base_uri": "https://localhost:8080/",
          "height": 271
        },
        "id": "BsWm_FZNU9_C",
        "outputId": "1bcb8c40-81a0-499c-c29a-03c60e1434b2"
      },
      "execution_count": null,
      "outputs": [
        {
          "output_type": "execute_result",
          "data": {
            "text/plain": [
              "                                            postText  \\\n",
              "0  ['Wes Welker Wanted Dinner With Tom Brady, But...   \n",
              "1  ['NASA sets date for full recovery of ozone ho...   \n",
              "2  [\"This is what makes employees happy -- and it...   \n",
              "3  ['Passion is overrated —\\xa07 work habits you ...   \n",
              "\n",
              "                                    targetParagraphs  \\\n",
              "0  ['It’ll be just like old times this weekend fo...   \n",
              "1  ['2070 is shaping up to be a great year for Mo...   \n",
              "2  [\"Despite common belief, money isn't the key t...   \n",
              "3  ['It’s common wisdom. Near gospel really, and ...   \n",
              "\n",
              "                                         targetTitle  \\\n",
              "0  Wes Welker Wanted Dinner With Tom Brady, But P...   \n",
              "1  Hole In Ozone Layer Expected To Make Full Reco...   \n",
              "2  Intellectual Stimulation Trumps Money For Empl...   \n",
              "3  ‘Follow your passion’ is wrong, here are 7 hab...   \n",
              "\n",
              "                                   targetDescription         tags  int_tag  \n",
              "0  It'll be just like old times this weekend for ...  ['passage']        1  \n",
              "1  2070 is shaping up to be a great year for Moth...   ['phrase']        0  \n",
              "2  By: Chad Brooks \\r\\nPublished: 09/18/2013 06:4...   ['phrase']        0  \n",
              "3    There's a lot more to work that loving your job    ['multi']        2  "
            ],
            "text/html": [
              "\n",
              "  <div id=\"df-5a6e5308-cb6f-4736-aaf0-f55ebd624ae5\">\n",
              "    <div class=\"colab-df-container\">\n",
              "      <div>\n",
              "<style scoped>\n",
              "    .dataframe tbody tr th:only-of-type {\n",
              "        vertical-align: middle;\n",
              "    }\n",
              "\n",
              "    .dataframe tbody tr th {\n",
              "        vertical-align: top;\n",
              "    }\n",
              "\n",
              "    .dataframe thead th {\n",
              "        text-align: right;\n",
              "    }\n",
              "</style>\n",
              "<table border=\"1\" class=\"dataframe\">\n",
              "  <thead>\n",
              "    <tr style=\"text-align: right;\">\n",
              "      <th></th>\n",
              "      <th>postText</th>\n",
              "      <th>targetParagraphs</th>\n",
              "      <th>targetTitle</th>\n",
              "      <th>targetDescription</th>\n",
              "      <th>tags</th>\n",
              "      <th>int_tag</th>\n",
              "    </tr>\n",
              "  </thead>\n",
              "  <tbody>\n",
              "    <tr>\n",
              "      <th>0</th>\n",
              "      <td>['Wes Welker Wanted Dinner With Tom Brady, But...</td>\n",
              "      <td>['It’ll be just like old times this weekend fo...</td>\n",
              "      <td>Wes Welker Wanted Dinner With Tom Brady, But P...</td>\n",
              "      <td>It'll be just like old times this weekend for ...</td>\n",
              "      <td>['passage']</td>\n",
              "      <td>1</td>\n",
              "    </tr>\n",
              "    <tr>\n",
              "      <th>1</th>\n",
              "      <td>['NASA sets date for full recovery of ozone ho...</td>\n",
              "      <td>['2070 is shaping up to be a great year for Mo...</td>\n",
              "      <td>Hole In Ozone Layer Expected To Make Full Reco...</td>\n",
              "      <td>2070 is shaping up to be a great year for Moth...</td>\n",
              "      <td>['phrase']</td>\n",
              "      <td>0</td>\n",
              "    </tr>\n",
              "    <tr>\n",
              "      <th>2</th>\n",
              "      <td>[\"This is what makes employees happy -- and it...</td>\n",
              "      <td>[\"Despite common belief, money isn't the key t...</td>\n",
              "      <td>Intellectual Stimulation Trumps Money For Empl...</td>\n",
              "      <td>By: Chad Brooks \\r\\nPublished: 09/18/2013 06:4...</td>\n",
              "      <td>['phrase']</td>\n",
              "      <td>0</td>\n",
              "    </tr>\n",
              "    <tr>\n",
              "      <th>3</th>\n",
              "      <td>['Passion is overrated —\\xa07 work habits you ...</td>\n",
              "      <td>['It’s common wisdom. Near gospel really, and ...</td>\n",
              "      <td>‘Follow your passion’ is wrong, here are 7 hab...</td>\n",
              "      <td>There's a lot more to work that loving your job</td>\n",
              "      <td>['multi']</td>\n",
              "      <td>2</td>\n",
              "    </tr>\n",
              "  </tbody>\n",
              "</table>\n",
              "</div>\n",
              "      <button class=\"colab-df-convert\" onclick=\"convertToInteractive('df-5a6e5308-cb6f-4736-aaf0-f55ebd624ae5')\"\n",
              "              title=\"Convert this dataframe to an interactive table.\"\n",
              "              style=\"display:none;\">\n",
              "        \n",
              "  <svg xmlns=\"http://www.w3.org/2000/svg\" height=\"24px\"viewBox=\"0 0 24 24\"\n",
              "       width=\"24px\">\n",
              "    <path d=\"M0 0h24v24H0V0z\" fill=\"none\"/>\n",
              "    <path d=\"M18.56 5.44l.94 2.06.94-2.06 2.06-.94-2.06-.94-.94-2.06-.94 2.06-2.06.94zm-11 1L8.5 8.5l.94-2.06 2.06-.94-2.06-.94L8.5 2.5l-.94 2.06-2.06.94zm10 10l.94 2.06.94-2.06 2.06-.94-2.06-.94-.94-2.06-.94 2.06-2.06.94z\"/><path d=\"M17.41 7.96l-1.37-1.37c-.4-.4-.92-.59-1.43-.59-.52 0-1.04.2-1.43.59L10.3 9.45l-7.72 7.72c-.78.78-.78 2.05 0 2.83L4 21.41c.39.39.9.59 1.41.59.51 0 1.02-.2 1.41-.59l7.78-7.78 2.81-2.81c.8-.78.8-2.07 0-2.86zM5.41 20L4 18.59l7.72-7.72 1.47 1.35L5.41 20z\"/>\n",
              "  </svg>\n",
              "      </button>\n",
              "      \n",
              "  <style>\n",
              "    .colab-df-container {\n",
              "      display:flex;\n",
              "      flex-wrap:wrap;\n",
              "      gap: 12px;\n",
              "    }\n",
              "\n",
              "    .colab-df-convert {\n",
              "      background-color: #E8F0FE;\n",
              "      border: none;\n",
              "      border-radius: 50%;\n",
              "      cursor: pointer;\n",
              "      display: none;\n",
              "      fill: #1967D2;\n",
              "      height: 32px;\n",
              "      padding: 0 0 0 0;\n",
              "      width: 32px;\n",
              "    }\n",
              "\n",
              "    .colab-df-convert:hover {\n",
              "      background-color: #E2EBFA;\n",
              "      box-shadow: 0px 1px 2px rgba(60, 64, 67, 0.3), 0px 1px 3px 1px rgba(60, 64, 67, 0.15);\n",
              "      fill: #174EA6;\n",
              "    }\n",
              "\n",
              "    [theme=dark] .colab-df-convert {\n",
              "      background-color: #3B4455;\n",
              "      fill: #D2E3FC;\n",
              "    }\n",
              "\n",
              "    [theme=dark] .colab-df-convert:hover {\n",
              "      background-color: #434B5C;\n",
              "      box-shadow: 0px 1px 3px 1px rgba(0, 0, 0, 0.15);\n",
              "      filter: drop-shadow(0px 1px 2px rgba(0, 0, 0, 0.3));\n",
              "      fill: #FFFFFF;\n",
              "    }\n",
              "  </style>\n",
              "\n",
              "      <script>\n",
              "        const buttonEl =\n",
              "          document.querySelector('#df-5a6e5308-cb6f-4736-aaf0-f55ebd624ae5 button.colab-df-convert');\n",
              "        buttonEl.style.display =\n",
              "          google.colab.kernel.accessAllowed ? 'block' : 'none';\n",
              "\n",
              "        async function convertToInteractive(key) {\n",
              "          const element = document.querySelector('#df-5a6e5308-cb6f-4736-aaf0-f55ebd624ae5');\n",
              "          const dataTable =\n",
              "            await google.colab.kernel.invokeFunction('convertToInteractive',\n",
              "                                                     [key], {});\n",
              "          if (!dataTable) return;\n",
              "\n",
              "          const docLinkHtml = 'Like what you see? Visit the ' +\n",
              "            '<a target=\"_blank\" href=https://colab.research.google.com/notebooks/data_table.ipynb>data table notebook</a>'\n",
              "            + ' to learn more about interactive tables.';\n",
              "          element.innerHTML = '';\n",
              "          dataTable['output_type'] = 'display_data';\n",
              "          await google.colab.output.renderOutput(dataTable, element);\n",
              "          const docLink = document.createElement('div');\n",
              "          docLink.innerHTML = docLinkHtml;\n",
              "          element.appendChild(docLink);\n",
              "        }\n",
              "      </script>\n",
              "    </div>\n",
              "  </div>\n",
              "  "
            ]
          },
          "metadata": {},
          "execution_count": 11
        }
      ]
    },
    {
      "cell_type": "code",
      "source": [
        "dfa = dfa.drop(['tags'], axis=1)\n",
        "dfa.head(4)"
      ],
      "metadata": {
        "colab": {
          "base_uri": "https://localhost:8080/",
          "height": 175
        },
        "id": "lIyn1-BEU9_m",
        "outputId": "6645a27a-6eb0-4f76-8a42-2a57dfd91b99"
      },
      "execution_count": null,
      "outputs": [
        {
          "output_type": "execute_result",
          "data": {
            "text/plain": [
              "                                            postText  \\\n",
              "0  ['Wes Welker Wanted Dinner With Tom Brady, But...   \n",
              "1  ['NASA sets date for full recovery of ozone ho...   \n",
              "2  [\"This is what makes employees happy -- and it...   \n",
              "3  ['Passion is overrated —\\xa07 work habits you ...   \n",
              "\n",
              "                                    targetParagraphs  \\\n",
              "0  ['It’ll be just like old times this weekend fo...   \n",
              "1  ['2070 is shaping up to be a great year for Mo...   \n",
              "2  [\"Despite common belief, money isn't the key t...   \n",
              "3  ['It’s common wisdom. Near gospel really, and ...   \n",
              "\n",
              "                                         targetTitle  \\\n",
              "0  Wes Welker Wanted Dinner With Tom Brady, But P...   \n",
              "1  Hole In Ozone Layer Expected To Make Full Reco...   \n",
              "2  Intellectual Stimulation Trumps Money For Empl...   \n",
              "3  ‘Follow your passion’ is wrong, here are 7 hab...   \n",
              "\n",
              "                                   targetDescription  int_tag  \n",
              "0  It'll be just like old times this weekend for ...        1  \n",
              "1  2070 is shaping up to be a great year for Moth...        0  \n",
              "2  By: Chad Brooks \\r\\nPublished: 09/18/2013 06:4...        0  \n",
              "3    There's a lot more to work that loving your job        2  "
            ],
            "text/html": [
              "\n",
              "  <div id=\"df-cfe272ac-3839-4f76-bacc-00f4ecf586dd\">\n",
              "    <div class=\"colab-df-container\">\n",
              "      <div>\n",
              "<style scoped>\n",
              "    .dataframe tbody tr th:only-of-type {\n",
              "        vertical-align: middle;\n",
              "    }\n",
              "\n",
              "    .dataframe tbody tr th {\n",
              "        vertical-align: top;\n",
              "    }\n",
              "\n",
              "    .dataframe thead th {\n",
              "        text-align: right;\n",
              "    }\n",
              "</style>\n",
              "<table border=\"1\" class=\"dataframe\">\n",
              "  <thead>\n",
              "    <tr style=\"text-align: right;\">\n",
              "      <th></th>\n",
              "      <th>postText</th>\n",
              "      <th>targetParagraphs</th>\n",
              "      <th>targetTitle</th>\n",
              "      <th>targetDescription</th>\n",
              "      <th>int_tag</th>\n",
              "    </tr>\n",
              "  </thead>\n",
              "  <tbody>\n",
              "    <tr>\n",
              "      <th>0</th>\n",
              "      <td>['Wes Welker Wanted Dinner With Tom Brady, But...</td>\n",
              "      <td>['It’ll be just like old times this weekend fo...</td>\n",
              "      <td>Wes Welker Wanted Dinner With Tom Brady, But P...</td>\n",
              "      <td>It'll be just like old times this weekend for ...</td>\n",
              "      <td>1</td>\n",
              "    </tr>\n",
              "    <tr>\n",
              "      <th>1</th>\n",
              "      <td>['NASA sets date for full recovery of ozone ho...</td>\n",
              "      <td>['2070 is shaping up to be a great year for Mo...</td>\n",
              "      <td>Hole In Ozone Layer Expected To Make Full Reco...</td>\n",
              "      <td>2070 is shaping up to be a great year for Moth...</td>\n",
              "      <td>0</td>\n",
              "    </tr>\n",
              "    <tr>\n",
              "      <th>2</th>\n",
              "      <td>[\"This is what makes employees happy -- and it...</td>\n",
              "      <td>[\"Despite common belief, money isn't the key t...</td>\n",
              "      <td>Intellectual Stimulation Trumps Money For Empl...</td>\n",
              "      <td>By: Chad Brooks \\r\\nPublished: 09/18/2013 06:4...</td>\n",
              "      <td>0</td>\n",
              "    </tr>\n",
              "    <tr>\n",
              "      <th>3</th>\n",
              "      <td>['Passion is overrated —\\xa07 work habits you ...</td>\n",
              "      <td>['It’s common wisdom. Near gospel really, and ...</td>\n",
              "      <td>‘Follow your passion’ is wrong, here are 7 hab...</td>\n",
              "      <td>There's a lot more to work that loving your job</td>\n",
              "      <td>2</td>\n",
              "    </tr>\n",
              "  </tbody>\n",
              "</table>\n",
              "</div>\n",
              "      <button class=\"colab-df-convert\" onclick=\"convertToInteractive('df-cfe272ac-3839-4f76-bacc-00f4ecf586dd')\"\n",
              "              title=\"Convert this dataframe to an interactive table.\"\n",
              "              style=\"display:none;\">\n",
              "        \n",
              "  <svg xmlns=\"http://www.w3.org/2000/svg\" height=\"24px\"viewBox=\"0 0 24 24\"\n",
              "       width=\"24px\">\n",
              "    <path d=\"M0 0h24v24H0V0z\" fill=\"none\"/>\n",
              "    <path d=\"M18.56 5.44l.94 2.06.94-2.06 2.06-.94-2.06-.94-.94-2.06-.94 2.06-2.06.94zm-11 1L8.5 8.5l.94-2.06 2.06-.94-2.06-.94L8.5 2.5l-.94 2.06-2.06.94zm10 10l.94 2.06.94-2.06 2.06-.94-2.06-.94-.94-2.06-.94 2.06-2.06.94z\"/><path d=\"M17.41 7.96l-1.37-1.37c-.4-.4-.92-.59-1.43-.59-.52 0-1.04.2-1.43.59L10.3 9.45l-7.72 7.72c-.78.78-.78 2.05 0 2.83L4 21.41c.39.39.9.59 1.41.59.51 0 1.02-.2 1.41-.59l7.78-7.78 2.81-2.81c.8-.78.8-2.07 0-2.86zM5.41 20L4 18.59l7.72-7.72 1.47 1.35L5.41 20z\"/>\n",
              "  </svg>\n",
              "      </button>\n",
              "      \n",
              "  <style>\n",
              "    .colab-df-container {\n",
              "      display:flex;\n",
              "      flex-wrap:wrap;\n",
              "      gap: 12px;\n",
              "    }\n",
              "\n",
              "    .colab-df-convert {\n",
              "      background-color: #E8F0FE;\n",
              "      border: none;\n",
              "      border-radius: 50%;\n",
              "      cursor: pointer;\n",
              "      display: none;\n",
              "      fill: #1967D2;\n",
              "      height: 32px;\n",
              "      padding: 0 0 0 0;\n",
              "      width: 32px;\n",
              "    }\n",
              "\n",
              "    .colab-df-convert:hover {\n",
              "      background-color: #E2EBFA;\n",
              "      box-shadow: 0px 1px 2px rgba(60, 64, 67, 0.3), 0px 1px 3px 1px rgba(60, 64, 67, 0.15);\n",
              "      fill: #174EA6;\n",
              "    }\n",
              "\n",
              "    [theme=dark] .colab-df-convert {\n",
              "      background-color: #3B4455;\n",
              "      fill: #D2E3FC;\n",
              "    }\n",
              "\n",
              "    [theme=dark] .colab-df-convert:hover {\n",
              "      background-color: #434B5C;\n",
              "      box-shadow: 0px 1px 3px 1px rgba(0, 0, 0, 0.15);\n",
              "      filter: drop-shadow(0px 1px 2px rgba(0, 0, 0, 0.3));\n",
              "      fill: #FFFFFF;\n",
              "    }\n",
              "  </style>\n",
              "\n",
              "      <script>\n",
              "        const buttonEl =\n",
              "          document.querySelector('#df-cfe272ac-3839-4f76-bacc-00f4ecf586dd button.colab-df-convert');\n",
              "        buttonEl.style.display =\n",
              "          google.colab.kernel.accessAllowed ? 'block' : 'none';\n",
              "\n",
              "        async function convertToInteractive(key) {\n",
              "          const element = document.querySelector('#df-cfe272ac-3839-4f76-bacc-00f4ecf586dd');\n",
              "          const dataTable =\n",
              "            await google.colab.kernel.invokeFunction('convertToInteractive',\n",
              "                                                     [key], {});\n",
              "          if (!dataTable) return;\n",
              "\n",
              "          const docLinkHtml = 'Like what you see? Visit the ' +\n",
              "            '<a target=\"_blank\" href=https://colab.research.google.com/notebooks/data_table.ipynb>data table notebook</a>'\n",
              "            + ' to learn more about interactive tables.';\n",
              "          element.innerHTML = '';\n",
              "          dataTable['output_type'] = 'display_data';\n",
              "          await google.colab.output.renderOutput(dataTable, element);\n",
              "          const docLink = document.createElement('div');\n",
              "          docLink.innerHTML = docLinkHtml;\n",
              "          element.appendChild(docLink);\n",
              "        }\n",
              "      </script>\n",
              "    </div>\n",
              "  </div>\n",
              "  "
            ]
          },
          "metadata": {},
          "execution_count": 12
        }
      ]
    },
    {
      "cell_type": "code",
      "source": [
        "! python -m spacy download en_core_web_lg"
      ],
      "metadata": {
        "colab": {
          "base_uri": "https://localhost:8080/"
        },
        "id": "EeWms1u4g4Cn",
        "outputId": "3638857a-fddd-45bd-9924-723102eaeeac"
      },
      "execution_count": null,
      "outputs": [
        {
          "output_type": "stream",
          "name": "stdout",
          "text": [
            "2023-05-11 16:36:11.474698: I tensorflow/core/platform/cpu_feature_guard.cc:182] This TensorFlow binary is optimized to use available CPU instructions in performance-critical operations.\n",
            "To enable the following instructions: AVX2 FMA, in other operations, rebuild TensorFlow with the appropriate compiler flags.\n",
            "2023-05-11 16:36:12.571946: W tensorflow/compiler/tf2tensorrt/utils/py_utils.cc:38] TF-TRT Warning: Could not find TensorRT\n",
            "Looking in indexes: https://pypi.org/simple, https://us-python.pkg.dev/colab-wheels/public/simple/\n",
            "Collecting en-core-web-lg==3.5.0\n",
            "  Downloading https://github.com/explosion/spacy-models/releases/download/en_core_web_lg-3.5.0/en_core_web_lg-3.5.0-py3-none-any.whl (587.7 MB)\n",
            "\u001b[2K     \u001b[90m━━━━━━━━━━━━━━━━━━━━━━━━━━━━━━━━━━━━━━━\u001b[0m \u001b[32m587.7/587.7 MB\u001b[0m \u001b[31m2.8 MB/s\u001b[0m eta \u001b[36m0:00:00\u001b[0m\n",
            "\u001b[?25hRequirement already satisfied: spacy<3.6.0,>=3.5.0 in /usr/local/lib/python3.10/dist-packages (from en-core-web-lg==3.5.0) (3.5.2)\n",
            "Requirement already satisfied: spacy-legacy<3.1.0,>=3.0.11 in /usr/local/lib/python3.10/dist-packages (from spacy<3.6.0,>=3.5.0->en-core-web-lg==3.5.0) (3.0.12)\n",
            "Requirement already satisfied: spacy-loggers<2.0.0,>=1.0.0 in /usr/local/lib/python3.10/dist-packages (from spacy<3.6.0,>=3.5.0->en-core-web-lg==3.5.0) (1.0.4)\n",
            "Requirement already satisfied: murmurhash<1.1.0,>=0.28.0 in /usr/local/lib/python3.10/dist-packages (from spacy<3.6.0,>=3.5.0->en-core-web-lg==3.5.0) (1.0.9)\n",
            "Requirement already satisfied: cymem<2.1.0,>=2.0.2 in /usr/local/lib/python3.10/dist-packages (from spacy<3.6.0,>=3.5.0->en-core-web-lg==3.5.0) (2.0.7)\n",
            "Requirement already satisfied: preshed<3.1.0,>=3.0.2 in /usr/local/lib/python3.10/dist-packages (from spacy<3.6.0,>=3.5.0->en-core-web-lg==3.5.0) (3.0.8)\n",
            "Requirement already satisfied: thinc<8.2.0,>=8.1.8 in /usr/local/lib/python3.10/dist-packages (from spacy<3.6.0,>=3.5.0->en-core-web-lg==3.5.0) (8.1.9)\n",
            "Requirement already satisfied: wasabi<1.2.0,>=0.9.1 in /usr/local/lib/python3.10/dist-packages (from spacy<3.6.0,>=3.5.0->en-core-web-lg==3.5.0) (1.1.1)\n",
            "Requirement already satisfied: srsly<3.0.0,>=2.4.3 in /usr/local/lib/python3.10/dist-packages (from spacy<3.6.0,>=3.5.0->en-core-web-lg==3.5.0) (2.4.6)\n",
            "Requirement already satisfied: catalogue<2.1.0,>=2.0.6 in /usr/local/lib/python3.10/dist-packages (from spacy<3.6.0,>=3.5.0->en-core-web-lg==3.5.0) (2.0.8)\n",
            "Requirement already satisfied: typer<0.8.0,>=0.3.0 in /usr/local/lib/python3.10/dist-packages (from spacy<3.6.0,>=3.5.0->en-core-web-lg==3.5.0) (0.7.0)\n",
            "Requirement already satisfied: pathy>=0.10.0 in /usr/local/lib/python3.10/dist-packages (from spacy<3.6.0,>=3.5.0->en-core-web-lg==3.5.0) (0.10.1)\n",
            "Requirement already satisfied: smart-open<7.0.0,>=5.2.1 in /usr/local/lib/python3.10/dist-packages (from spacy<3.6.0,>=3.5.0->en-core-web-lg==3.5.0) (6.3.0)\n",
            "Requirement already satisfied: tqdm<5.0.0,>=4.38.0 in /usr/local/lib/python3.10/dist-packages (from spacy<3.6.0,>=3.5.0->en-core-web-lg==3.5.0) (4.65.0)\n",
            "Requirement already satisfied: numpy>=1.15.0 in /usr/local/lib/python3.10/dist-packages (from spacy<3.6.0,>=3.5.0->en-core-web-lg==3.5.0) (1.22.4)\n",
            "Requirement already satisfied: requests<3.0.0,>=2.13.0 in /usr/local/lib/python3.10/dist-packages (from spacy<3.6.0,>=3.5.0->en-core-web-lg==3.5.0) (2.27.1)\n",
            "Requirement already satisfied: pydantic!=1.8,!=1.8.1,<1.11.0,>=1.7.4 in /usr/local/lib/python3.10/dist-packages (from spacy<3.6.0,>=3.5.0->en-core-web-lg==3.5.0) (1.10.7)\n",
            "Requirement already satisfied: jinja2 in /usr/local/lib/python3.10/dist-packages (from spacy<3.6.0,>=3.5.0->en-core-web-lg==3.5.0) (3.1.2)\n",
            "Requirement already satisfied: setuptools in /usr/local/lib/python3.10/dist-packages (from spacy<3.6.0,>=3.5.0->en-core-web-lg==3.5.0) (67.7.2)\n",
            "Requirement already satisfied: packaging>=20.0 in /usr/local/lib/python3.10/dist-packages (from spacy<3.6.0,>=3.5.0->en-core-web-lg==3.5.0) (23.1)\n",
            "Requirement already satisfied: langcodes<4.0.0,>=3.2.0 in /usr/local/lib/python3.10/dist-packages (from spacy<3.6.0,>=3.5.0->en-core-web-lg==3.5.0) (3.3.0)\n",
            "Requirement already satisfied: typing-extensions>=4.2.0 in /usr/local/lib/python3.10/dist-packages (from pydantic!=1.8,!=1.8.1,<1.11.0,>=1.7.4->spacy<3.6.0,>=3.5.0->en-core-web-lg==3.5.0) (4.5.0)\n",
            "Requirement already satisfied: urllib3<1.27,>=1.21.1 in /usr/local/lib/python3.10/dist-packages (from requests<3.0.0,>=2.13.0->spacy<3.6.0,>=3.5.0->en-core-web-lg==3.5.0) (1.26.15)\n",
            "Requirement already satisfied: certifi>=2017.4.17 in /usr/local/lib/python3.10/dist-packages (from requests<3.0.0,>=2.13.0->spacy<3.6.0,>=3.5.0->en-core-web-lg==3.5.0) (2022.12.7)\n",
            "Requirement already satisfied: charset-normalizer~=2.0.0 in /usr/local/lib/python3.10/dist-packages (from requests<3.0.0,>=2.13.0->spacy<3.6.0,>=3.5.0->en-core-web-lg==3.5.0) (2.0.12)\n",
            "Requirement already satisfied: idna<4,>=2.5 in /usr/local/lib/python3.10/dist-packages (from requests<3.0.0,>=2.13.0->spacy<3.6.0,>=3.5.0->en-core-web-lg==3.5.0) (3.4)\n",
            "Requirement already satisfied: blis<0.8.0,>=0.7.8 in /usr/local/lib/python3.10/dist-packages (from thinc<8.2.0,>=8.1.8->spacy<3.6.0,>=3.5.0->en-core-web-lg==3.5.0) (0.7.9)\n",
            "Requirement already satisfied: confection<1.0.0,>=0.0.1 in /usr/local/lib/python3.10/dist-packages (from thinc<8.2.0,>=8.1.8->spacy<3.6.0,>=3.5.0->en-core-web-lg==3.5.0) (0.0.4)\n",
            "Requirement already satisfied: click<9.0.0,>=7.1.1 in /usr/local/lib/python3.10/dist-packages (from typer<0.8.0,>=0.3.0->spacy<3.6.0,>=3.5.0->en-core-web-lg==3.5.0) (8.1.3)\n",
            "Requirement already satisfied: MarkupSafe>=2.0 in /usr/local/lib/python3.10/dist-packages (from jinja2->spacy<3.6.0,>=3.5.0->en-core-web-lg==3.5.0) (2.1.2)\n",
            "Installing collected packages: en-core-web-lg\n",
            "Successfully installed en-core-web-lg-3.5.0\n",
            "\u001b[38;5;2m✔ Download and installation successful\u001b[0m\n",
            "You can now load the package via spacy.load('en_core_web_lg')\n"
          ]
        }
      ]
    },
    {
      "cell_type": "code",
      "source": [
        "import spacy\n",
        "nlp = spacy.load('en_core_web_lg')"
      ],
      "metadata": {
        "id": "t_Hv0wW3fi1O"
      },
      "execution_count": null,
      "outputs": []
    },
    {
      "cell_type": "code",
      "source": [
        "dfa['postText_vec'] = None\n",
        "\n",
        "for i in range(0,len(df)):\n",
        "    text = dfa.loc[i, 'postText']\n",
        "    text = eval(text)\n",
        "    vec = nlp(text[0])\n",
        "    dfa['postText_vec'][i] = vec.vector"
      ],
      "metadata": {
        "id": "ZeyjWCnRhTET",
        "colab": {
          "base_uri": "https://localhost:8080/"
        },
        "outputId": "07fd80ff-9113-4f33-aa1f-5b824b72cf39"
      },
      "execution_count": null,
      "outputs": [
        {
          "output_type": "stream",
          "name": "stderr",
          "text": [
            "<ipython-input-15-cc84caccc093>:7: SettingWithCopyWarning: \n",
            "A value is trying to be set on a copy of a slice from a DataFrame\n",
            "\n",
            "See the caveats in the documentation: https://pandas.pydata.org/pandas-docs/stable/user_guide/indexing.html#returning-a-view-versus-a-copy\n",
            "  dfa['postText_vec'][i] = vec.vector\n"
          ]
        }
      ]
    },
    {
      "cell_type": "code",
      "source": [
        "dfa['targetTitle_vec'] = None\n",
        "for i in range(0,len(df)):\n",
        "    text = dfa.loc[i, 'targetTitle']\n",
        "    vec = nlp(str(text))\n",
        "    dfa['targetTitle_vec'][i] = vec.vector"
      ],
      "metadata": {
        "id": "d5Nvf8EZhiO4",
        "colab": {
          "base_uri": "https://localhost:8080/"
        },
        "outputId": "65ad039a-c3ce-49fa-c568-2105a7960a14"
      },
      "execution_count": null,
      "outputs": [
        {
          "output_type": "stream",
          "name": "stderr",
          "text": [
            "<ipython-input-16-bd724272847a>:5: SettingWithCopyWarning: \n",
            "A value is trying to be set on a copy of a slice from a DataFrame\n",
            "\n",
            "See the caveats in the documentation: https://pandas.pydata.org/pandas-docs/stable/user_guide/indexing.html#returning-a-view-versus-a-copy\n",
            "  dfa['targetTitle_vec'][i] = vec.vector\n"
          ]
        }
      ]
    },
    {
      "cell_type": "code",
      "source": [
        "dfa['targetDescription_vec'] = None\n",
        "for i in range(0,len(df)):\n",
        "    text = dfa.loc[i, 'targetDescription']\n",
        "    vec = nlp(str(text))\n",
        "    dfa['targetDescription_vec'][i] = vec.vector"
      ],
      "metadata": {
        "id": "g0srNnxooQfE",
        "colab": {
          "base_uri": "https://localhost:8080/"
        },
        "outputId": "a0884253-02fb-4daf-ae50-92533cdf8830"
      },
      "execution_count": null,
      "outputs": [
        {
          "output_type": "stream",
          "name": "stderr",
          "text": [
            "<ipython-input-17-01e311a122b1>:5: SettingWithCopyWarning: \n",
            "A value is trying to be set on a copy of a slice from a DataFrame\n",
            "\n",
            "See the caveats in the documentation: https://pandas.pydata.org/pandas-docs/stable/user_guide/indexing.html#returning-a-view-versus-a-copy\n",
            "  dfa['targetDescription_vec'][i] = vec.vector\n"
          ]
        }
      ]
    },
    {
      "cell_type": "code",
      "source": [
        "dfa.head(3)"
      ],
      "metadata": {
        "colab": {
          "base_uri": "https://localhost:8080/",
          "height": 292
        },
        "id": "m0xWFCh5obJb",
        "outputId": "40acdbc4-c95a-4e8b-b56f-d23ba260dd7b"
      },
      "execution_count": null,
      "outputs": [
        {
          "output_type": "execute_result",
          "data": {
            "text/plain": [
              "                                            postText  \\\n",
              "0  ['Wes Welker Wanted Dinner With Tom Brady, But...   \n",
              "1  ['NASA sets date for full recovery of ozone ho...   \n",
              "2  [\"This is what makes employees happy -- and it...   \n",
              "\n",
              "                                    targetParagraphs  \\\n",
              "0  ['It’ll be just like old times this weekend fo...   \n",
              "1  ['2070 is shaping up to be a great year for Mo...   \n",
              "2  [\"Despite common belief, money isn't the key t...   \n",
              "\n",
              "                                         targetTitle  \\\n",
              "0  Wes Welker Wanted Dinner With Tom Brady, But P...   \n",
              "1  Hole In Ozone Layer Expected To Make Full Reco...   \n",
              "2  Intellectual Stimulation Trumps Money For Empl...   \n",
              "\n",
              "                                   targetDescription  int_tag  \\\n",
              "0  It'll be just like old times this weekend for ...        1   \n",
              "1  2070 is shaping up to be a great year for Moth...        0   \n",
              "2  By: Chad Brooks \\r\\nPublished: 09/18/2013 06:4...        0   \n",
              "\n",
              "                                        postText_vec  \\\n",
              "0  [-2.0979686, 0.6063779, -0.94384354, 0.3092747...   \n",
              "1  [-1.8265146, -0.8172922, -1.4787078, 0.1865631...   \n",
              "2  [-0.13099767, 3.526263, -3.4332871, -1.6861632...   \n",
              "\n",
              "                                     targetTitle_vec  \\\n",
              "0  [-2.498104, 0.88412607, -0.5298207, 0.1868631,...   \n",
              "1  [-0.55992067, -0.9638871, 0.8794559, -0.824101...   \n",
              "2  [-0.761644, -2.477749, 0.31437, 2.4237597, 2.9...   \n",
              "\n",
              "                               targetDescription_vec  \n",
              "0  [-1.8353769, 1.0711681, -1.7202758, 0.18997319...  \n",
              "1  [-1.5672935, 1.6376957, -2.4868062, -0.0351003...  \n",
              "2  [-0.82971394, -0.13521388, -0.4544737, 0.83729...  "
            ],
            "text/html": [
              "\n",
              "  <div id=\"df-f4f6a543-ae04-4434-a0b4-153be9c67098\">\n",
              "    <div class=\"colab-df-container\">\n",
              "      <div>\n",
              "<style scoped>\n",
              "    .dataframe tbody tr th:only-of-type {\n",
              "        vertical-align: middle;\n",
              "    }\n",
              "\n",
              "    .dataframe tbody tr th {\n",
              "        vertical-align: top;\n",
              "    }\n",
              "\n",
              "    .dataframe thead th {\n",
              "        text-align: right;\n",
              "    }\n",
              "</style>\n",
              "<table border=\"1\" class=\"dataframe\">\n",
              "  <thead>\n",
              "    <tr style=\"text-align: right;\">\n",
              "      <th></th>\n",
              "      <th>postText</th>\n",
              "      <th>targetParagraphs</th>\n",
              "      <th>targetTitle</th>\n",
              "      <th>targetDescription</th>\n",
              "      <th>int_tag</th>\n",
              "      <th>postText_vec</th>\n",
              "      <th>targetTitle_vec</th>\n",
              "      <th>targetDescription_vec</th>\n",
              "    </tr>\n",
              "  </thead>\n",
              "  <tbody>\n",
              "    <tr>\n",
              "      <th>0</th>\n",
              "      <td>['Wes Welker Wanted Dinner With Tom Brady, But...</td>\n",
              "      <td>['It’ll be just like old times this weekend fo...</td>\n",
              "      <td>Wes Welker Wanted Dinner With Tom Brady, But P...</td>\n",
              "      <td>It'll be just like old times this weekend for ...</td>\n",
              "      <td>1</td>\n",
              "      <td>[-2.0979686, 0.6063779, -0.94384354, 0.3092747...</td>\n",
              "      <td>[-2.498104, 0.88412607, -0.5298207, 0.1868631,...</td>\n",
              "      <td>[-1.8353769, 1.0711681, -1.7202758, 0.18997319...</td>\n",
              "    </tr>\n",
              "    <tr>\n",
              "      <th>1</th>\n",
              "      <td>['NASA sets date for full recovery of ozone ho...</td>\n",
              "      <td>['2070 is shaping up to be a great year for Mo...</td>\n",
              "      <td>Hole In Ozone Layer Expected To Make Full Reco...</td>\n",
              "      <td>2070 is shaping up to be a great year for Moth...</td>\n",
              "      <td>0</td>\n",
              "      <td>[-1.8265146, -0.8172922, -1.4787078, 0.1865631...</td>\n",
              "      <td>[-0.55992067, -0.9638871, 0.8794559, -0.824101...</td>\n",
              "      <td>[-1.5672935, 1.6376957, -2.4868062, -0.0351003...</td>\n",
              "    </tr>\n",
              "    <tr>\n",
              "      <th>2</th>\n",
              "      <td>[\"This is what makes employees happy -- and it...</td>\n",
              "      <td>[\"Despite common belief, money isn't the key t...</td>\n",
              "      <td>Intellectual Stimulation Trumps Money For Empl...</td>\n",
              "      <td>By: Chad Brooks \\r\\nPublished: 09/18/2013 06:4...</td>\n",
              "      <td>0</td>\n",
              "      <td>[-0.13099767, 3.526263, -3.4332871, -1.6861632...</td>\n",
              "      <td>[-0.761644, -2.477749, 0.31437, 2.4237597, 2.9...</td>\n",
              "      <td>[-0.82971394, -0.13521388, -0.4544737, 0.83729...</td>\n",
              "    </tr>\n",
              "  </tbody>\n",
              "</table>\n",
              "</div>\n",
              "      <button class=\"colab-df-convert\" onclick=\"convertToInteractive('df-f4f6a543-ae04-4434-a0b4-153be9c67098')\"\n",
              "              title=\"Convert this dataframe to an interactive table.\"\n",
              "              style=\"display:none;\">\n",
              "        \n",
              "  <svg xmlns=\"http://www.w3.org/2000/svg\" height=\"24px\"viewBox=\"0 0 24 24\"\n",
              "       width=\"24px\">\n",
              "    <path d=\"M0 0h24v24H0V0z\" fill=\"none\"/>\n",
              "    <path d=\"M18.56 5.44l.94 2.06.94-2.06 2.06-.94-2.06-.94-.94-2.06-.94 2.06-2.06.94zm-11 1L8.5 8.5l.94-2.06 2.06-.94-2.06-.94L8.5 2.5l-.94 2.06-2.06.94zm10 10l.94 2.06.94-2.06 2.06-.94-2.06-.94-.94-2.06-.94 2.06-2.06.94z\"/><path d=\"M17.41 7.96l-1.37-1.37c-.4-.4-.92-.59-1.43-.59-.52 0-1.04.2-1.43.59L10.3 9.45l-7.72 7.72c-.78.78-.78 2.05 0 2.83L4 21.41c.39.39.9.59 1.41.59.51 0 1.02-.2 1.41-.59l7.78-7.78 2.81-2.81c.8-.78.8-2.07 0-2.86zM5.41 20L4 18.59l7.72-7.72 1.47 1.35L5.41 20z\"/>\n",
              "  </svg>\n",
              "      </button>\n",
              "      \n",
              "  <style>\n",
              "    .colab-df-container {\n",
              "      display:flex;\n",
              "      flex-wrap:wrap;\n",
              "      gap: 12px;\n",
              "    }\n",
              "\n",
              "    .colab-df-convert {\n",
              "      background-color: #E8F0FE;\n",
              "      border: none;\n",
              "      border-radius: 50%;\n",
              "      cursor: pointer;\n",
              "      display: none;\n",
              "      fill: #1967D2;\n",
              "      height: 32px;\n",
              "      padding: 0 0 0 0;\n",
              "      width: 32px;\n",
              "    }\n",
              "\n",
              "    .colab-df-convert:hover {\n",
              "      background-color: #E2EBFA;\n",
              "      box-shadow: 0px 1px 2px rgba(60, 64, 67, 0.3), 0px 1px 3px 1px rgba(60, 64, 67, 0.15);\n",
              "      fill: #174EA6;\n",
              "    }\n",
              "\n",
              "    [theme=dark] .colab-df-convert {\n",
              "      background-color: #3B4455;\n",
              "      fill: #D2E3FC;\n",
              "    }\n",
              "\n",
              "    [theme=dark] .colab-df-convert:hover {\n",
              "      background-color: #434B5C;\n",
              "      box-shadow: 0px 1px 3px 1px rgba(0, 0, 0, 0.15);\n",
              "      filter: drop-shadow(0px 1px 2px rgba(0, 0, 0, 0.3));\n",
              "      fill: #FFFFFF;\n",
              "    }\n",
              "  </style>\n",
              "\n",
              "      <script>\n",
              "        const buttonEl =\n",
              "          document.querySelector('#df-f4f6a543-ae04-4434-a0b4-153be9c67098 button.colab-df-convert');\n",
              "        buttonEl.style.display =\n",
              "          google.colab.kernel.accessAllowed ? 'block' : 'none';\n",
              "\n",
              "        async function convertToInteractive(key) {\n",
              "          const element = document.querySelector('#df-f4f6a543-ae04-4434-a0b4-153be9c67098');\n",
              "          const dataTable =\n",
              "            await google.colab.kernel.invokeFunction('convertToInteractive',\n",
              "                                                     [key], {});\n",
              "          if (!dataTable) return;\n",
              "\n",
              "          const docLinkHtml = 'Like what you see? Visit the ' +\n",
              "            '<a target=\"_blank\" href=https://colab.research.google.com/notebooks/data_table.ipynb>data table notebook</a>'\n",
              "            + ' to learn more about interactive tables.';\n",
              "          element.innerHTML = '';\n",
              "          dataTable['output_type'] = 'display_data';\n",
              "          await google.colab.output.renderOutput(dataTable, element);\n",
              "          const docLink = document.createElement('div');\n",
              "          docLink.innerHTML = docLinkHtml;\n",
              "          element.appendChild(docLink);\n",
              "        }\n",
              "      </script>\n",
              "    </div>\n",
              "  </div>\n",
              "  "
            ]
          },
          "metadata": {},
          "execution_count": 18
        }
      ]
    },
    {
      "cell_type": "code",
      "source": [
        "dfa['targetParagraphs_vec'] = None"
      ],
      "metadata": {
        "id": "zuN02FcEvWx9"
      },
      "execution_count": null,
      "outputs": []
    },
    {
      "cell_type": "code",
      "source": [
        "def paragraph_vector(sentences):\n",
        "  paragraph = ''\n",
        "  for text in sentences:\n",
        "    paragraph = paragraph + text\n",
        "\n",
        "  vec = nlp(str(paragraph))\n",
        "  return vec.vector\n",
        "\n",
        "for i in range(0, len(dfa)):\n",
        "  sentences = eval(dfa.loc[i, 'targetParagraphs'])\n",
        "  para_vector = paragraph_vector(sentences)\n",
        "  dfa['targetParagraphs_vec'][i] = para_vector"
      ],
      "metadata": {
        "id": "Bk86gnjKwEFM",
        "colab": {
          "base_uri": "https://localhost:8080/"
        },
        "outputId": "7b15c2aa-2d52-47ec-ba05-bca6bf65a70d"
      },
      "execution_count": null,
      "outputs": [
        {
          "output_type": "stream",
          "name": "stderr",
          "text": [
            "<ipython-input-20-d8603a472b81>:12: SettingWithCopyWarning: \n",
            "A value is trying to be set on a copy of a slice from a DataFrame\n",
            "\n",
            "See the caveats in the documentation: https://pandas.pydata.org/pandas-docs/stable/user_guide/indexing.html#returning-a-view-versus-a-copy\n",
            "  dfa['targetParagraphs_vec'][i] = para_vector\n"
          ]
        }
      ]
    },
    {
      "cell_type": "code",
      "source": [
        "dfa.head(3)"
      ],
      "metadata": {
        "id": "4nkm18YW2yC1",
        "colab": {
          "base_uri": "https://localhost:8080/",
          "height": 327
        },
        "outputId": "eb0b5610-fe0d-44d8-cee2-1d514973c6cd"
      },
      "execution_count": null,
      "outputs": [
        {
          "output_type": "execute_result",
          "data": {
            "text/plain": [
              "                                            postText  \\\n",
              "0  ['Wes Welker Wanted Dinner With Tom Brady, But...   \n",
              "1  ['NASA sets date for full recovery of ozone ho...   \n",
              "2  [\"This is what makes employees happy -- and it...   \n",
              "\n",
              "                                    targetParagraphs  \\\n",
              "0  ['It’ll be just like old times this weekend fo...   \n",
              "1  ['2070 is shaping up to be a great year for Mo...   \n",
              "2  [\"Despite common belief, money isn't the key t...   \n",
              "\n",
              "                                         targetTitle  \\\n",
              "0  Wes Welker Wanted Dinner With Tom Brady, But P...   \n",
              "1  Hole In Ozone Layer Expected To Make Full Reco...   \n",
              "2  Intellectual Stimulation Trumps Money For Empl...   \n",
              "\n",
              "                                   targetDescription  int_tag  \\\n",
              "0  It'll be just like old times this weekend for ...        1   \n",
              "1  2070 is shaping up to be a great year for Moth...        0   \n",
              "2  By: Chad Brooks \\r\\nPublished: 09/18/2013 06:4...        0   \n",
              "\n",
              "                                        postText_vec  \\\n",
              "0  [-2.0979686, 0.6063779, -0.94384354, 0.3092747...   \n",
              "1  [-1.8265146, -0.8172922, -1.4787078, 0.1865631...   \n",
              "2  [-0.13099767, 3.526263, -3.4332871, -1.6861632...   \n",
              "\n",
              "                                     targetTitle_vec  \\\n",
              "0  [-2.498104, 0.88412607, -0.5298207, 0.1868631,...   \n",
              "1  [-0.55992067, -0.9638871, 0.8794559, -0.824101...   \n",
              "2  [-0.761644, -2.477749, 0.31437, 2.4237597, 2.9...   \n",
              "\n",
              "                               targetDescription_vec  \\\n",
              "0  [-1.8353769, 1.0711681, -1.7202758, 0.18997319...   \n",
              "1  [-1.5672935, 1.6376957, -2.4868062, -0.0351003...   \n",
              "2  [-0.82971394, -0.13521388, -0.4544737, 0.83729...   \n",
              "\n",
              "                                targetParagraphs_vec  \n",
              "0  [-0.95343906, 1.4473202, -2.0374784, -0.509594...  \n",
              "1  [-1.7398078, 0.97522223, -1.5949261, 0.5460704...  \n",
              "2  [-1.3953168, 0.9449824, -2.4384086, 0.12014902...  "
            ],
            "text/html": [
              "\n",
              "  <div id=\"df-07b61b24-a888-44a4-911f-bd2dea7d74c4\">\n",
              "    <div class=\"colab-df-container\">\n",
              "      <div>\n",
              "<style scoped>\n",
              "    .dataframe tbody tr th:only-of-type {\n",
              "        vertical-align: middle;\n",
              "    }\n",
              "\n",
              "    .dataframe tbody tr th {\n",
              "        vertical-align: top;\n",
              "    }\n",
              "\n",
              "    .dataframe thead th {\n",
              "        text-align: right;\n",
              "    }\n",
              "</style>\n",
              "<table border=\"1\" class=\"dataframe\">\n",
              "  <thead>\n",
              "    <tr style=\"text-align: right;\">\n",
              "      <th></th>\n",
              "      <th>postText</th>\n",
              "      <th>targetParagraphs</th>\n",
              "      <th>targetTitle</th>\n",
              "      <th>targetDescription</th>\n",
              "      <th>int_tag</th>\n",
              "      <th>postText_vec</th>\n",
              "      <th>targetTitle_vec</th>\n",
              "      <th>targetDescription_vec</th>\n",
              "      <th>targetParagraphs_vec</th>\n",
              "    </tr>\n",
              "  </thead>\n",
              "  <tbody>\n",
              "    <tr>\n",
              "      <th>0</th>\n",
              "      <td>['Wes Welker Wanted Dinner With Tom Brady, But...</td>\n",
              "      <td>['It’ll be just like old times this weekend fo...</td>\n",
              "      <td>Wes Welker Wanted Dinner With Tom Brady, But P...</td>\n",
              "      <td>It'll be just like old times this weekend for ...</td>\n",
              "      <td>1</td>\n",
              "      <td>[-2.0979686, 0.6063779, -0.94384354, 0.3092747...</td>\n",
              "      <td>[-2.498104, 0.88412607, -0.5298207, 0.1868631,...</td>\n",
              "      <td>[-1.8353769, 1.0711681, -1.7202758, 0.18997319...</td>\n",
              "      <td>[-0.95343906, 1.4473202, -2.0374784, -0.509594...</td>\n",
              "    </tr>\n",
              "    <tr>\n",
              "      <th>1</th>\n",
              "      <td>['NASA sets date for full recovery of ozone ho...</td>\n",
              "      <td>['2070 is shaping up to be a great year for Mo...</td>\n",
              "      <td>Hole In Ozone Layer Expected To Make Full Reco...</td>\n",
              "      <td>2070 is shaping up to be a great year for Moth...</td>\n",
              "      <td>0</td>\n",
              "      <td>[-1.8265146, -0.8172922, -1.4787078, 0.1865631...</td>\n",
              "      <td>[-0.55992067, -0.9638871, 0.8794559, -0.824101...</td>\n",
              "      <td>[-1.5672935, 1.6376957, -2.4868062, -0.0351003...</td>\n",
              "      <td>[-1.7398078, 0.97522223, -1.5949261, 0.5460704...</td>\n",
              "    </tr>\n",
              "    <tr>\n",
              "      <th>2</th>\n",
              "      <td>[\"This is what makes employees happy -- and it...</td>\n",
              "      <td>[\"Despite common belief, money isn't the key t...</td>\n",
              "      <td>Intellectual Stimulation Trumps Money For Empl...</td>\n",
              "      <td>By: Chad Brooks \\r\\nPublished: 09/18/2013 06:4...</td>\n",
              "      <td>0</td>\n",
              "      <td>[-0.13099767, 3.526263, -3.4332871, -1.6861632...</td>\n",
              "      <td>[-0.761644, -2.477749, 0.31437, 2.4237597, 2.9...</td>\n",
              "      <td>[-0.82971394, -0.13521388, -0.4544737, 0.83729...</td>\n",
              "      <td>[-1.3953168, 0.9449824, -2.4384086, 0.12014902...</td>\n",
              "    </tr>\n",
              "  </tbody>\n",
              "</table>\n",
              "</div>\n",
              "      <button class=\"colab-df-convert\" onclick=\"convertToInteractive('df-07b61b24-a888-44a4-911f-bd2dea7d74c4')\"\n",
              "              title=\"Convert this dataframe to an interactive table.\"\n",
              "              style=\"display:none;\">\n",
              "        \n",
              "  <svg xmlns=\"http://www.w3.org/2000/svg\" height=\"24px\"viewBox=\"0 0 24 24\"\n",
              "       width=\"24px\">\n",
              "    <path d=\"M0 0h24v24H0V0z\" fill=\"none\"/>\n",
              "    <path d=\"M18.56 5.44l.94 2.06.94-2.06 2.06-.94-2.06-.94-.94-2.06-.94 2.06-2.06.94zm-11 1L8.5 8.5l.94-2.06 2.06-.94-2.06-.94L8.5 2.5l-.94 2.06-2.06.94zm10 10l.94 2.06.94-2.06 2.06-.94-2.06-.94-.94-2.06-.94 2.06-2.06.94z\"/><path d=\"M17.41 7.96l-1.37-1.37c-.4-.4-.92-.59-1.43-.59-.52 0-1.04.2-1.43.59L10.3 9.45l-7.72 7.72c-.78.78-.78 2.05 0 2.83L4 21.41c.39.39.9.59 1.41.59.51 0 1.02-.2 1.41-.59l7.78-7.78 2.81-2.81c.8-.78.8-2.07 0-2.86zM5.41 20L4 18.59l7.72-7.72 1.47 1.35L5.41 20z\"/>\n",
              "  </svg>\n",
              "      </button>\n",
              "      \n",
              "  <style>\n",
              "    .colab-df-container {\n",
              "      display:flex;\n",
              "      flex-wrap:wrap;\n",
              "      gap: 12px;\n",
              "    }\n",
              "\n",
              "    .colab-df-convert {\n",
              "      background-color: #E8F0FE;\n",
              "      border: none;\n",
              "      border-radius: 50%;\n",
              "      cursor: pointer;\n",
              "      display: none;\n",
              "      fill: #1967D2;\n",
              "      height: 32px;\n",
              "      padding: 0 0 0 0;\n",
              "      width: 32px;\n",
              "    }\n",
              "\n",
              "    .colab-df-convert:hover {\n",
              "      background-color: #E2EBFA;\n",
              "      box-shadow: 0px 1px 2px rgba(60, 64, 67, 0.3), 0px 1px 3px 1px rgba(60, 64, 67, 0.15);\n",
              "      fill: #174EA6;\n",
              "    }\n",
              "\n",
              "    [theme=dark] .colab-df-convert {\n",
              "      background-color: #3B4455;\n",
              "      fill: #D2E3FC;\n",
              "    }\n",
              "\n",
              "    [theme=dark] .colab-df-convert:hover {\n",
              "      background-color: #434B5C;\n",
              "      box-shadow: 0px 1px 3px 1px rgba(0, 0, 0, 0.15);\n",
              "      filter: drop-shadow(0px 1px 2px rgba(0, 0, 0, 0.3));\n",
              "      fill: #FFFFFF;\n",
              "    }\n",
              "  </style>\n",
              "\n",
              "      <script>\n",
              "        const buttonEl =\n",
              "          document.querySelector('#df-07b61b24-a888-44a4-911f-bd2dea7d74c4 button.colab-df-convert');\n",
              "        buttonEl.style.display =\n",
              "          google.colab.kernel.accessAllowed ? 'block' : 'none';\n",
              "\n",
              "        async function convertToInteractive(key) {\n",
              "          const element = document.querySelector('#df-07b61b24-a888-44a4-911f-bd2dea7d74c4');\n",
              "          const dataTable =\n",
              "            await google.colab.kernel.invokeFunction('convertToInteractive',\n",
              "                                                     [key], {});\n",
              "          if (!dataTable) return;\n",
              "\n",
              "          const docLinkHtml = 'Like what you see? Visit the ' +\n",
              "            '<a target=\"_blank\" href=https://colab.research.google.com/notebooks/data_table.ipynb>data table notebook</a>'\n",
              "            + ' to learn more about interactive tables.';\n",
              "          element.innerHTML = '';\n",
              "          dataTable['output_type'] = 'display_data';\n",
              "          await google.colab.output.renderOutput(dataTable, element);\n",
              "          const docLink = document.createElement('div');\n",
              "          docLink.innerHTML = docLinkHtml;\n",
              "          element.appendChild(docLink);\n",
              "        }\n",
              "      </script>\n",
              "    </div>\n",
              "  </div>\n",
              "  "
            ]
          },
          "metadata": {},
          "execution_count": 21
        }
      ]
    },
    {
      "cell_type": "markdown",
      "source": [
        "# **Model** **Training**\n"
      ],
      "metadata": {
        "id": "wY13woUJldDS"
      }
    },
    {
      "cell_type": "code",
      "source": [
        "from sklearn.model_selection import train_test_split\n",
        "\n",
        "from sklearn.feature_extraction.text import TfidfVectorizer\n",
        "from sklearn.pipeline import Pipeline\n",
        "from sklearn.metrics import classification_report\n",
        "\n",
        "from sklearn.naive_bayes import MultinomialNB\n",
        "from sklearn.linear_model import LogisticRegression\n",
        "\n",
        "from sklearn.metrics import precision_score, recall_score, f1_score\n",
        "\n",
        "import numpy as np"
      ],
      "metadata": {
        "id": "uyX5gBBylhYP"
      },
      "execution_count": null,
      "outputs": []
    },
    {
      "cell_type": "code",
      "source": [
        "# independent variable\n",
        "X = dfa['targetTitle']\n",
        "# dependent variable\n",
        "y = dfa['int_tag']"
      ],
      "metadata": {
        "id": "kXDazQ6JssGR"
      },
      "execution_count": null,
      "outputs": []
    },
    {
      "cell_type": "code",
      "source": [
        "# Split the data into train & test sets\n",
        "X_train, X_test, y_train, y_test = train_test_split(X, y, test_size=0.2, random_state=42)"
      ],
      "metadata": {
        "id": "v_gIG95XtmnL"
      },
      "execution_count": null,
      "outputs": []
    },
    {
      "cell_type": "code",
      "source": [
        "clf = Pipeline([\n",
        "     ('vectorizer_tfidf',TfidfVectorizer()),\n",
        "     ('LR', LogisticRegression())\n",
        "])"
      ],
      "metadata": {
        "id": "C3zuD1LYlsvY"
      },
      "execution_count": null,
      "outputs": []
    },
    {
      "cell_type": "code",
      "source": [
        "clf_NB = Pipeline([\n",
        "     ('vectorizer_tfidf',TfidfVectorizer()),\n",
        "     ('NB', MultinomialNB())\n",
        "])"
      ],
      "metadata": {
        "id": "AlV0EWUxvRGC"
      },
      "execution_count": null,
      "outputs": []
    },
    {
      "cell_type": "code",
      "source": [
        "#fit with X_train and y_train\n",
        "clf.fit(X_train, y_train)\n",
        "\n",
        "# get the predictions for X_test and store it in y_pred\n",
        "y_pred = clf.predict(X_test)\n",
        "\n",
        "\n",
        "# print the classfication report\n",
        "print(classification_report(y_test, y_pred))\n"
      ],
      "metadata": {
        "colab": {
          "base_uri": "https://localhost:8080/"
        },
        "id": "5nIEW7YqSR7d",
        "outputId": "d3f689f2-7d24-4bc9-d1b9-0e88c31d5558"
      },
      "execution_count": null,
      "outputs": [
        {
          "output_type": "stream",
          "name": "stdout",
          "text": [
            "              precision    recall  f1-score   support\n",
            "\n",
            "           0       0.57      0.66      0.61       269\n",
            "           1       0.48      0.56      0.52       216\n",
            "           2       0.67      0.07      0.12        88\n",
            "\n",
            "    accuracy                           0.53       573\n",
            "   macro avg       0.57      0.43      0.42       573\n",
            "weighted avg       0.55      0.53      0.50       573\n",
            "\n"
          ]
        }
      ]
    },
    {
      "cell_type": "code",
      "source": [
        "#fit with X_train and y_train\n",
        "clf_NB.fit(X_train, y_train)\n",
        "\n",
        "# get the predictions for X_test and store it in y_pred\n",
        "y_pred = clf_NB.predict(X_test)\n",
        "\n",
        "\n",
        "# print the classfication report\n",
        "print(classification_report(y_test, y_pred))"
      ],
      "metadata": {
        "colab": {
          "base_uri": "https://localhost:8080/"
        },
        "id": "DgyDgmHXvkLj",
        "outputId": "15e00a0c-eea1-40c3-d3e3-cef87a54c9e3"
      },
      "execution_count": null,
      "outputs": [
        {
          "output_type": "stream",
          "name": "stdout",
          "text": [
            "              precision    recall  f1-score   support\n",
            "\n",
            "           0       0.54      0.65      0.59       269\n",
            "           1       0.47      0.54      0.50       216\n",
            "           2       1.00      0.02      0.04        88\n",
            "\n",
            "    accuracy                           0.51       573\n",
            "   macro avg       0.67      0.40      0.38       573\n",
            "weighted avg       0.59      0.51      0.47       573\n",
            "\n"
          ]
        }
      ]
    },
    {
      "cell_type": "markdown",
      "source": [
        "***Logistic Regression gives better result***"
      ],
      "metadata": {
        "id": "EHtJuZ8pwIKY"
      }
    },
    {
      "cell_type": "code",
      "source": [
        "y_preds = clf.predict(X_test)"
      ],
      "metadata": {
        "id": "epyRIK7G0YvY"
      },
      "execution_count": null,
      "outputs": []
    },
    {
      "cell_type": "markdown",
      "source": [
        "### Confusion Matrix"
      ],
      "metadata": {
        "id": "95UUsg0TmGoP"
      }
    },
    {
      "cell_type": "code",
      "source": [
        "import seaborn as sns\n",
        "import matplotlib.pyplot as plt\n",
        "from sklearn.metrics import confusion_matrix\n",
        "\n",
        "\n",
        "\n",
        "fig, ax = plt.subplots(figsize=(3, 3))\n",
        "ax = sns.heatmap(confusion_matrix(y_test, y_preds),\n",
        "                annot=True,\n",
        "                cbar=False)\n",
        "plt.xlabel(\"Truth\")\n",
        "plt.ylabel(\"Prediction\")"
      ],
      "metadata": {
        "id": "8OkvBjkqmHW5",
        "colab": {
          "base_uri": "https://localhost:8080/",
          "height": 328
        },
        "outputId": "88922970-b26f-4705-b696-ba91a60bcb5d"
      },
      "execution_count": null,
      "outputs": [
        {
          "output_type": "execute_result",
          "data": {
            "text/plain": [
              "Text(8.222222222222223, 0.5, 'Prediction')"
            ]
          },
          "metadata": {},
          "execution_count": 46
        },
        {
          "output_type": "display_data",
          "data": {
            "text/plain": [
              "<Figure size 300x300 with 1 Axes>"
            ],
            "image/png": "[encoded data removed]"
          },
          "metadata": {}
        }
      ]
    },
    {
      "cell_type": "code",
      "source": [
        "y_preds = clf_NB.predict(X_test)\n",
        "\n",
        "fig, ax = plt.subplots(figsize=(3, 3))\n",
        "ax = sns.heatmap(confusion_matrix(y_test, y_preds),\n",
        "                annot=True,\n",
        "                cbar=False)\n",
        "plt.xlabel(\"Truth\")\n",
        "plt.ylabel(\"Prediction\")"
      ],
      "metadata": {
        "colab": {
          "base_uri": "https://localhost:8080/",
          "height": 328
        },
        "id": "ExkJtjbwz9Mq",
        "outputId": "d74a9c2d-f42c-4bdf-9fd1-882ab0aa01a3"
      },
      "execution_count": null,
      "outputs": [
        {
          "output_type": "execute_result",
          "data": {
            "text/plain": [
              "Text(8.222222222222223, 0.5, 'Prediction')"
            ]
          },
          "metadata": {},
          "execution_count": 47
        },
        {
          "output_type": "display_data",
          "data": {
            "text/plain": [
              "<Figure size 300x300 with 1 Axes>"
            ],
            "image/png": "[encoded data removed]"
          },
          "metadata": {}
        }
      ]
    },
    {
      "cell_type": "markdown",
      "source": [
        "### Cross Validation\n",
        "`Accuracy` tells us how many times the ML model was correct overall. `Precision` is how good the model is at predicting a specific category. `Recall` tells us how many times the model was able to detect a specific category. `F1 Score` is the harmonic mean between precision and recall."
      ],
      "metadata": {
        "id": "ZcRZ286FmPEZ"
      }
    },
    {
      "cell_type": "code",
      "source": [
        "# Cross-validated Accuracy\n",
        "from sklearn.model_selection import cross_val_score\n",
        "\n",
        "cv_accuracy = cross_val_score(clf, X, y,\n",
        "                        cv=5,\n",
        "                        scoring=\"accuracy\")\n",
        "cv_accuracy = np.mean(cv_accuracy)\n",
        "cv_accuracy"
      ],
      "metadata": {
        "id": "wb9dGu1QmPsO",
        "colab": {
          "base_uri": "https://localhost:8080/"
        },
        "outputId": "0aa1dd41-a623-41b1-f1b5-e16a25ad2466"
      },
      "execution_count": null,
      "outputs": [
        {
          "output_type": "execute_result",
          "data": {
            "text/plain": [
              "0.5284839941908005"
            ]
          },
          "metadata": {},
          "execution_count": 30
        }
      ]
    },
    {
      "cell_type": "code",
      "source": [
        "# Cross-validated Precision\n",
        "\n",
        "cv_precision = cross_val_score(clf, X, y,\n",
        "                        cv=5,\n",
        "                        scoring=\"precision_macro\")\n",
        "cv_precision = np.mean(cv_precision)\n",
        "cv_precision"
      ],
      "metadata": {
        "id": "x0kyqsnNmSXS",
        "colab": {
          "base_uri": "https://localhost:8080/"
        },
        "outputId": "90e323e5-0890-4555-a707-a847c86ff142"
      },
      "execution_count": null,
      "outputs": [
        {
          "output_type": "execute_result",
          "data": {
            "text/plain": [
              "0.5850448260648945"
            ]
          },
          "metadata": {},
          "execution_count": 31
        }
      ]
    },
    {
      "cell_type": "code",
      "source": [
        "# Cross-validated Recall\n",
        "\n",
        "cv_recall = cross_val_score(clf, X, y,\n",
        "                        cv=5,\n",
        "                        scoring=\"recall_macro\")\n",
        "cv_recall = np.mean(cv_recall)\n",
        "cv_recall"
      ],
      "metadata": {
        "id": "oDgzsO0jmUjA",
        "colab": {
          "base_uri": "https://localhost:8080/"
        },
        "outputId": "f88c452b-216e-4a9b-f6a4-8e8321b2db9c"
      },
      "execution_count": null,
      "outputs": [
        {
          "output_type": "execute_result",
          "data": {
            "text/plain": [
              "0.4413649364103119"
            ]
          },
          "metadata": {},
          "execution_count": 32
        }
      ]
    },
    {
      "cell_type": "code",
      "source": [
        "# Cross-validated F1\n",
        "\n",
        "cv_f1 = cross_val_score(clf, X, y,\n",
        "                        cv=5,\n",
        "                        scoring=\"f1_macro\")\n",
        "cv_f1 = np.mean(cv_f1)\n",
        "cv_f1"
      ],
      "metadata": {
        "id": "esfoOEeImWoL",
        "colab": {
          "base_uri": "https://localhost:8080/"
        },
        "outputId": "90a06862-b5a0-4a42-9e70-c57206198853"
      },
      "execution_count": null,
      "outputs": [
        {
          "output_type": "execute_result",
          "data": {
            "text/plain": [
              "0.43660323959761227"
            ]
          },
          "metadata": {},
          "execution_count": 33
        }
      ]
    },
    {
      "cell_type": "code",
      "source": [
        "cv_metrics = pd.DataFrame({\"Accuracy\": cv_accuracy,\n",
        "                           \"Precision\": cv_precision,\n",
        "                           \"Recall\": cv_recall,\n",
        "                           \"F1\": cv_f1},\n",
        "                           index=[0])\n",
        "\n",
        "cv_metrics.T.plot.bar(title=\"Cross-validated Classification Metrics\",\n",
        "                      legend=False);"
      ],
      "metadata": {
        "id": "NqPOBnrWmYZ3",
        "colab": {
          "base_uri": "https://localhost:8080/",
          "height": 502
        },
        "outputId": "d3d35436-b9d7-4cce-dae2-c4a11ca933f6"
      },
      "execution_count": null,
      "outputs": [
        {
          "output_type": "display_data",
          "data": {
            "text/plain": [
              "<Figure size 640x480 with 1 Axes>"
            ],
            "image/png": "[encoded data removed]"
          },
          "metadata": {}
        }
      ]
    },
    {
      "cell_type": "code",
      "source": [
        "# Cross-validated Accuracy\n",
        "from sklearn.model_selection import cross_val_score\n",
        "\n",
        "cv_accuracy = cross_val_score(clf_NB, X, y,\n",
        "                        cv=5,\n",
        "                        scoring=\"accuracy\")\n",
        "cv_accuracy = np.mean(cv_accuracy)\n",
        "cv_accuracy"
      ],
      "metadata": {
        "colab": {
          "base_uri": "https://localhost:8080/"
        },
        "id": "qk8w7vRtq3ra",
        "outputId": "0e8e2eb2-521a-478c-a17d-902d7aba7cab"
      },
      "execution_count": null,
      "outputs": [
        {
          "output_type": "execute_result",
          "data": {
            "text/plain": [
              "0.50366797251614"
            ]
          },
          "metadata": {},
          "execution_count": 35
        }
      ]
    },
    {
      "cell_type": "code",
      "source": [
        "# Cross-validated Precision\n",
        "\n",
        "cv_precision = cross_val_score(clf_NB, X, y,\n",
        "                        cv=5,\n",
        "                        scoring=\"precision_macro\")\n",
        "cv_precision = np.mean(cv_precision)\n",
        "cv_precision"
      ],
      "metadata": {
        "colab": {
          "base_uri": "https://localhost:8080/"
        },
        "id": "FLJuskQmq616",
        "outputId": "e6d1fc2c-0fb7-4a98-c089-1ae1f2d01723"
      },
      "execution_count": null,
      "outputs": [
        {
          "output_type": "stream",
          "name": "stderr",
          "text": [
            "/usr/local/lib/python3.10/dist-packages/sklearn/metrics/_classification.py:1344: UndefinedMetricWarning: Precision is ill-defined and being set to 0.0 in labels with no predicted samples. Use `zero_division` parameter to control this behavior.\n",
            "  _warn_prf(average, modifier, msg_start, len(result))\n",
            "/usr/local/lib/python3.10/dist-packages/sklearn/metrics/_classification.py:1344: UndefinedMetricWarning: Precision is ill-defined and being set to 0.0 in labels with no predicted samples. Use `zero_division` parameter to control this behavior.\n",
            "  _warn_prf(average, modifier, msg_start, len(result))\n",
            "/usr/local/lib/python3.10/dist-packages/sklearn/metrics/_classification.py:1344: UndefinedMetricWarning: Precision is ill-defined and being set to 0.0 in labels with no predicted samples. Use `zero_division` parameter to control this behavior.\n",
            "  _warn_prf(average, modifier, msg_start, len(result))\n",
            "/usr/local/lib/python3.10/dist-packages/sklearn/metrics/_classification.py:1344: UndefinedMetricWarning: Precision is ill-defined and being set to 0.0 in labels with no predicted samples. Use `zero_division` parameter to control this behavior.\n",
            "  _warn_prf(average, modifier, msg_start, len(result))\n"
          ]
        },
        {
          "output_type": "execute_result",
          "data": {
            "text/plain": [
              "0.40289452805834874"
            ]
          },
          "metadata": {},
          "execution_count": 36
        }
      ]
    },
    {
      "cell_type": "code",
      "source": [
        "# Cross-validated Recall\n",
        "\n",
        "cv_recall = cross_val_score(clf_NB, X, y,\n",
        "                        cv=5,\n",
        "                        scoring=\"recall_macro\")\n",
        "cv_recall = np.mean(cv_recall)\n",
        "cv_recall"
      ],
      "metadata": {
        "colab": {
          "base_uri": "https://localhost:8080/"
        },
        "id": "PPkmvpKGq9Te",
        "outputId": "760af2f2-59cc-49d0-e6a7-52a1e63ff7e9"
      },
      "execution_count": null,
      "outputs": [
        {
          "output_type": "execute_result",
          "data": {
            "text/plain": [
              "0.3984209534652549"
            ]
          },
          "metadata": {},
          "execution_count": 37
        }
      ]
    },
    {
      "cell_type": "code",
      "source": [
        "# Cross-validated F1\n",
        "\n",
        "cv_f1 = cross_val_score(clf_NB, X, y,\n",
        "                        cv=5,\n",
        "                        scoring=\"f1_macro\")\n",
        "cv_f1 = np.mean(cv_f1)\n",
        "cv_f1"
      ],
      "metadata": {
        "colab": {
          "base_uri": "https://localhost:8080/"
        },
        "id": "2VH4ovTHq_jq",
        "outputId": "3340d543-dd4b-41f9-d09d-56e983a67726"
      },
      "execution_count": null,
      "outputs": [
        {
          "output_type": "execute_result",
          "data": {
            "text/plain": [
              "0.36295539906522123"
            ]
          },
          "metadata": {},
          "execution_count": 38
        }
      ]
    },
    {
      "cell_type": "code",
      "source": [
        "cv_metrics = pd.DataFrame({\"Accuracy\": cv_accuracy,\n",
        "                           \"Precision\": cv_precision,\n",
        "                           \"Recall\": cv_recall,\n",
        "                           \"F1\": cv_f1},\n",
        "                           index=[0])\n",
        "\n",
        "cv_metrics.T.plot.bar(title=\"Cross-validated Classification Metrics\",\n",
        "                      legend=False);"
      ],
      "metadata": {
        "colab": {
          "base_uri": "https://localhost:8080/",
          "height": 502
        },
        "id": "BEd48X1RrB3F",
        "outputId": "b9e9e1d5-f3ad-4ec7-be9c-85e652b9a03e"
      },
      "execution_count": null,
      "outputs": [
        {
          "output_type": "display_data",
          "data": {
            "text/plain": [
              "<Figure size 640x480 with 1 Axes>"
            ],
            "image/png": "[encoded data removed]"
          },
          "metadata": {}
        }
      ]
    }
  ]
}